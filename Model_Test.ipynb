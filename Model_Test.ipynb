{
 "cells": [
  {
   "cell_type": "code",
   "execution_count": 1,
   "id": "e4223af7-75ca-4506-992c-177c9d66111c",
   "metadata": {},
   "outputs": [],
   "source": [
    "import numpy as np\n",
    "import matplotlib.pyplot as plt\n",
    "from sklearn.model_selection import train_test_split\n",
    "import tensorflow as tf\n",
    "from tensorflow import keras\n",
    "from sklearn.metrics import classification_report\n",
    "from sklearn.metrics import confusion_matrix\n",
    "from sklearn.metrics import accuracy_score\n",
    "\n",
    "%matplotlib inline\n",
    "plt.style.use('bmh')\n",
    "\n",
    "data_test = np.load('data_train_vars.npy')\n",
    "data_test = data_test[:1000,:]\n",
    "labels_test = np.load('labels_train_corr_vars.npy')\n",
    "labels_test = labels_test[:1000]\n",
    "\n",
    "#Import model\n",
    "model = keras.models.load_model('CNN_overlap.h5')\n",
    "\n",
    "def Test_model_accuracy(data_test, labels_test, CNN_overlap):\n",
    "    class_names = ['Stop','Yield','Red Light','Green Light','Roundabout','Right Turn Only','Do Not Enter','Crosswalk','Handicap Parking','No Parking']\n",
    "    \n",
    "    # cast numpy arrays into tensorflow tensors\n",
    "    X_test_rs = tf.constant(data_test.reshape((data_test.shape[0],300,300,3)), dtype=tf.float16)\n",
    "    X_test_rs = X_test_rs / 255.0\n",
    "\n",
    "    y_preds = np.argmax(CNN_overlap.predict(X_test_rs), axis=1)\n",
    "\n",
    "    accuracy_score_fnc_output = accuracy_score(labels_test, y_preds)\n",
    "\n",
    "    return accuracy_score_fnc_output, y_preds"
   ]
  },
  {
   "cell_type": "code",
   "execution_count": 2,
   "id": "8603b26a-f370-4a07-9a90-5f89db120863",
   "metadata": {},
   "outputs": [
    {
     "name": "stdout",
     "output_type": "stream",
     "text": [
      "32/32 [==============================] - 2s 9ms/step\n",
      "Model Accuracy: 0.956\n",
      "Predictions: [1 5 4 9 1 8 6 1 5 5 5 5 5 6 9 2 3 5 4 2 5 2 9 4 1 4 1 8 8 0 4 6 5 1 5 0 0\n",
      " 4 5 2 5 4 6 5 1 4 8 2 0 9 1 7 0 6 2 7 7 3 4 0 6 8 8 7 8 1 5 6 2 4 8 1 4 9\n",
      " 1 1 2 5 9 6 9 4 3 5 3 5 7 6 0 8 7 9 0 6 8 7 3 9 1 8 8 9 0 5 1 2 8 9 4 6 0\n",
      " 1 5 8 7 6 9 7 5 1 1 0 1 0 2 7 5 3 0 1 1 2 8 5 7 7 7 2 6 7 6 9 4 6 4 3 8 5\n",
      " 8 5 8 5 2 6 7 8 2 8 7 3 3 1 8 6 1 4 4 7 5 0 0 5 5 9 6 8 4 5 3 7 3 0 4 2 4\n",
      " 2 8 7 3 0 4 3 6 0 9 3 8 4 9 3 7 2 2 0 5 7 9 1 2 4 8 1 0 0 3 2 7 5 1 9 7 1\n",
      " 0 6 8 2 5 9 9 1 2 3 5 4 6 0 5 1 6 3 0 9 8 8 6 6 9 5 2 8 7 4 5 0 8 5 1 9 5\n",
      " 1 2 4 1 6 8 3 2 7 9 1 4 2 4 2 6 1 5 8 2 8 4 5 0 9 6 8 6 7 6 9 2 6 0 2 8 3\n",
      " 9 4 3 5 2 8 6 2 9 0 8 7 7 1 5 7 1 0 6 2 5 2 7 1 1 5 2 2 4 9 6 0 8 9 3 5 3\n",
      " 0 4 6 7 5 8 6 6 8 7 7 3 1 4 5 5 5 2 9 8 9 3 2 8 1 7 6 2 3 3 4 9 5 5 6 7 7\n",
      " 7 9 0 3 3 3 1 5 6 9 2 1 4 8 1 4 0 8 4 8 8 8 2 8 7 4 6 9 9 6 1 3 6 4 4 4 0\n",
      " 8 0 7 3 9 3 3 5 1 3 9 6 8 4 2 5 6 5 6 8 0 4 3 1 3 7 1 3 6 8 1 6 9 2 4 0 7\n",
      " 3 3 6 3 7 2 0 8 6 6 5 7 4 1 9 7 3 5 3 6 7 6 0 2 1 1 9 2 7 0 6 0 6 6 8 5 7\n",
      " 7 8 2 8 5 2 6 7 9 0 8 6 6 8 6 7 8 2 2 1 3 7 9 6 5 1 6 5 6 9 0 1 9 0 7 4 5\n",
      " 4 4 4 5 2 4 6 1 7 4 2 7 4 4 9 3 5 7 5 8 9 4 9 3 4 1 5 0 0 3 6 5 3 0 1 9 7\n",
      " 0 7 7 0 9 3 3 6 0 4 4 1 9 2 7 2 9 8 1 5 2 3 9 6 9 9 4 8 5 9 3 0 3 3 1 3 3\n",
      " 6 1 3 2 8 6 4 1 6 9 7 8 4 1 0 9 7 6 8 9 7 2 6 7 3 7 2 8 3 6 2 4 2 6 4 2 8\n",
      " 3 2 9 5 6 9 5 1 8 0 1 5 7 1 9 0 3 9 6 7 4 8 1 6 3 3 3 2 1 9 9 4 4 1 9 4 4\n",
      " 0 7 4 7 5 7 4 3 2 8 6 2 3 1 9 2 3 0 5 5 0 9 4 3 8 2 9 9 3 0 2 4 2 1 8 0 2\n",
      " 4 6 4 2 9 0 2 4 9 3 8 9 1 2 8 4 7 2 5 3 7 7 0 8 0 2 2 9 4 5 8 8 5 6 2 1 7\n",
      " 5 9 8 0 1 6 9 6 8 5 1 1 2 9 4 4 7 2 5 6 1 8 7 0 8 4 8 8 1 4 6 1 0 3 3 0 7\n",
      " 3 2 4 9 0 6 5 4 3 2 7 0 6 7 2 4 3 8 0 6 5 4 1 8 8 8 6 4 8 7 9 7 3 8 9 6 3\n",
      " 9 4 0 8 0 0 2 3 7 1 9 5 4 5 7 2 8 9 3 1 2 1 1 5 7 9 5 4 7 0 1 9 5 7 1 6 9\n",
      " 4 6 8 2 3 5 6 7 1 7 6 0 1 2 4 4 8 4 2 0 5 6 6 5 2 4 2 2 0 0 8 4 7 3 7 0 1\n",
      " 1 8 1 1 6 8 9 1 4 8 4 5 5 6 6 6 7 0 0 4 2 2 0 3 5 7 8 1 1 4 6 8 9 6 7 4 8\n",
      " 3 7 6 1 8 7 0 3 7 3 4 7 2 8 5 6 1 0 2 4 7 6 6 3 3 0 6 1 2 1 2 0 1 0 1 3 0\n",
      " 0 2 3 6 3 8 0 5 2 2 1 0 2 3 6 5 6 5 5 8 7 9 9 0 7 9 7 5 7 9 8 0 2 6 4 5 2\n",
      " 5]\n"
     ]
    }
   ],
   "source": [
    "test_accuracy ,y_preds = Test_model_accuracy(data_test, labels_test, model)\n",
    "print('Model Accuracy:',test_accuracy)\n",
    "print('Predictions:', y_preds)"
   ]
  }
 ],
 "metadata": {
  "kernelspec": {
   "display_name": "Python 3 (ipykernel)",
   "language": "python",
   "name": "python3"
  },
  "language_info": {
   "codemirror_mode": {
    "name": "ipython",
    "version": 3
   },
   "file_extension": ".py",
   "mimetype": "text/x-python",
   "name": "python",
   "nbconvert_exporter": "python",
   "pygments_lexer": "ipython3",
   "version": "3.9.12"
  }
 },
 "nbformat": 4,
 "nbformat_minor": 5
}
